{
 "cells": [
  {
   "cell_type": "code",
   "execution_count": 1,
   "id": "6cc59841",
   "metadata": {},
   "outputs": [],
   "source": [
    "import pandas as pd"
   ]
  },
  {
   "cell_type": "code",
   "execution_count": 60,
   "id": "c575be6f",
   "metadata": {},
   "outputs": [],
   "source": [
    "df = pd.read_csv('glassdoor_jobs.csv')"
   ]
  },
  {
   "cell_type": "code",
   "execution_count": 72,
   "id": "b5f04d2a",
   "metadata": {},
   "outputs": [],
   "source": [
    "# Remove rows without salaries\n",
    "df = df[df['Salary Estimate'] != '-1']\n",
    "\n",
    "# Salary parsing\n",
    "salary = df['Salary Estimate'].apply(lambda x: x.split('(')[0])\n",
    "remove_kd = salary.apply(lambda x : x.replace('K', '').replace('$', ''))\n",
    "\n",
    "#if hourly salary or not\n",
    "df['Is Hourly'] = df['Salary Estimate'].apply(lambda x: 1 if 'per hour' in x.lower() else 0)\n",
    "df['Employer provided'] = df['Salary Estimate'].apply(lambda x: 1 if 'employer provided salary:' in x.lower() else 0)\n",
    "\n",
    "salary_parse = remove_kd.apply(lambda x : x.lower().replace('per hour', '').replace('employer provided salary:', ''))\n",
    "\n",
    "df['Min Salary'] = salary_parse.apply(lambda x : int(x.split('-')[0]))\n",
    "df['Max Salary'] = salary_parse.apply(lambda x : int(x.split('-')[1]))\n",
    "df['Avg Salary'] = (df['Min Salary'] + df['Max Salary'])/2"
   ]
  },
  {
   "cell_type": "code",
   "execution_count": 73,
   "id": "4ed61ee2",
   "metadata": {},
   "outputs": [],
   "source": [
    "# Company name without ratings\n",
    "df['Company Text'] = df.apply(lambda x : x['Company Name'] if x['Rating'] < 0 else x['Company Name'][:-3], axis = 1)"
   ]
  },
  {
   "cell_type": "code",
   "execution_count": 74,
   "id": "61ae5356",
   "metadata": {},
   "outputs": [],
   "source": [
    "# Add State field\n",
    "df['State'] = df['Location'].apply(lambda x : x.split(',')[1])\n",
    "df['Job at HQ'] = df.apply(lambda x : 1 if x['Location'] == x['Headquarters'] else 0, axis = 1)"
   ]
  },
  {
   "cell_type": "code",
   "execution_count": 75,
   "id": "d34b8c27",
   "metadata": {},
   "outputs": [
    {
     "name": "stdout",
     "output_type": "stream",
     "text": [
      "0       51\n",
      "1       40\n",
      "2       14\n",
      "3       59\n",
      "4       26\n",
      "      ... \n",
      "950    194\n",
      "951     18\n",
      "952     40\n",
      "953     -1\n",
      "955     57\n",
      "Name: Company Age, Length: 742, dtype: int64\n"
     ]
    }
   ],
   "source": [
    "df['Company Age'] = df.Founded.apply(lambda x : x if x < 1 else 2024 - x)\n",
    "print(df['Company Age'])"
   ]
  },
  {
   "cell_type": "code",
   "execution_count": 76,
   "id": "cc81a350",
   "metadata": {},
   "outputs": [],
   "source": [
    "# Parsing JD\n",
    "df['Python'] = df['Job Description'].apply(lambda x : 1 if 'python' in x.lower() else 0)\n",
    "df['Spark'] = df['Job Description'].apply(lambda x : 1 if 'spark' in x.lower() else 0)\n",
    "df['Tableau'] = df['Job Description'].apply(lambda x : 1 if 'tableau' in x.lower() else 0)\n",
    "df['AWS'] = df['Job Description'].apply(lambda x : 1 if 'aws' in x.lower() else 0)\n",
    "df['SQL'] = df['Job Description'].apply(lambda x : 1 if 'sql' in x.lower() else 0)"
   ]
  },
  {
   "cell_type": "code",
   "execution_count": 77,
   "id": "28a2bc29",
   "metadata": {},
   "outputs": [],
   "source": [
    "new_df = df.drop(['Unnamed: 0'], axis = 1)"
   ]
  },
  {
   "cell_type": "code",
   "execution_count": 79,
   "id": "1c861139",
   "metadata": {},
   "outputs": [],
   "source": [
    "new_df.to_csv('salary_data_updated.csv',index = False)"
   ]
  },
  {
   "cell_type": "code",
   "execution_count": null,
   "id": "f8f785a7",
   "metadata": {},
   "outputs": [],
   "source": []
  },
  {
   "cell_type": "code",
   "execution_count": null,
   "id": "ff3a39a5",
   "metadata": {},
   "outputs": [],
   "source": []
  }
 ],
 "metadata": {
  "celltoolbar": "Raw Cell Format",
  "kernelspec": {
   "display_name": "Python 3 (ipykernel)",
   "language": "python",
   "name": "python3"
  },
  "language_info": {
   "codemirror_mode": {
    "name": "ipython",
    "version": 3
   },
   "file_extension": ".py",
   "mimetype": "text/x-python",
   "name": "python",
   "nbconvert_exporter": "python",
   "pygments_lexer": "ipython3",
   "version": "3.9.13"
  }
 },
 "nbformat": 4,
 "nbformat_minor": 5
}
